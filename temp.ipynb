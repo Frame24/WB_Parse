{
 "cells": [
  {
   "cell_type": "code",
   "execution_count": 1,
   "metadata": {},
   "outputs": [
    {
     "name": "stdout",
     "output_type": "stream",
     "text": [
      "Requirement already satisfied: psutil in d:\\desktop\\reviews_django_test-master\\env\\lib\\site-packages (5.9.5)\n",
      "Collecting pystray\n",
      "  Downloading pystray-0.19.5-py2.py3-none-any.whl.metadata (9.4 kB)\n",
      "Requirement already satisfied: pillow in d:\\desktop\\reviews_django_test-master\\env\\lib\\site-packages (9.5.0)\n",
      "Requirement already satisfied: six in d:\\desktop\\reviews_django_test-master\\env\\lib\\site-packages (from pystray) (1.16.0)\n",
      "Downloading pystray-0.19.5-py2.py3-none-any.whl (49 kB)\n",
      "   ---------------------------------------- 0.0/49.1 kB ? eta -:--:--\n",
      "   --------------------------------- ------ 41.0/49.1 kB 1.9 MB/s eta 0:00:01\n",
      "   ---------------------------------------- 49.1/49.1 kB 616.3 kB/s eta 0:00:00\n",
      "Installing collected packages: pystray\n",
      "Successfully installed pystray-0.19.5\n"
     ]
    },
    {
     "name": "stderr",
     "output_type": "stream",
     "text": [
      "\n",
      "[notice] A new release of pip is available: 24.1.2 -> 24.2\n",
      "[notice] To update, run: python.exe -m pip install --upgrade pip\n"
     ]
    }
   ],
   "source": [
    "!pip install psutil pystray pillow\n"
   ]
  },
  {
   "cell_type": "code",
   "execution_count": 4,
   "metadata": {},
   "outputs": [
    {
     "name": "stdout",
     "output_type": "stream",
     "text": [
      "Collecting hidapi\n",
      "  Downloading hidapi-0.14.0.post2-cp310-cp310-win_amd64.whl.metadata (3.7 kB)\n",
      "Requirement already satisfied: setuptools>=19.0 in d:\\desktop\\reviews_django_test-master\\env\\lib\\site-packages (from hidapi) (71.0.3)\n",
      "Downloading hidapi-0.14.0.post2-cp310-cp310-win_amd64.whl (64 kB)\n",
      "   ---------------------------------------- 0.0/64.1 kB ? eta -:--:--\n",
      "   ------------------- -------------------- 30.7/64.1 kB 1.3 MB/s eta 0:00:01\n",
      "   ---------------------------------------- 64.1/64.1 kB 854.3 kB/s eta 0:00:00\n",
      "Installing collected packages: hidapi\n",
      "Successfully installed hidapi-0.14.0.post2\n"
     ]
    },
    {
     "name": "stderr",
     "output_type": "stream",
     "text": [
      "\n",
      "[notice] A new release of pip is available: 24.1.2 -> 24.2\n",
      "[notice] To update, run: python.exe -m pip install --upgrade pip\n"
     ]
    }
   ],
   "source": [
    "!pip install hidapi\n"
   ]
  },
  {
   "cell_type": "code",
   "execution_count": 22,
   "metadata": {},
   "outputs": [
    {
     "name": "stdout",
     "output_type": "stream",
     "text": [
      "\n",
      "Status     Class           FriendlyName                                                                     InstanceId \n",
      "------     -----           ------------                                                                     ---------- \n",
      "OK         USB             ���⠢��� USB ���ன�⢮                                                         USB\\VID_...\n",
      "Unknown    USB             SAMSUNG Mobile USB Composite Device                                              USB\\VID_...\n",
      "Unknown    USB             �������⭮� USB-���ன�⢮ (ᡮ� ����� ���ਯ�� ���ன�⢠)                 USB\\VID_...\n",
      "Unknown    USB             ���⠢��� USB ���ன�⢮                                                         USB\\VID_...\n",
      "Unknown    USB             ���⠢��� USB ���ன�⢮                                                         USB\\VID_...\n",
      "Unknown    USB             �����塞� ���-����஫��� AMD USB 3.10 - 1.10 (��������)                     PCI\\VEN_...\n",
      "Unknown    USB             ���⠢��� USB ���ன�⢮                                                         USB\\VID_...\n",
      "OK         USB             ���⠢��� USB ���ன�⢮                                                         USB\\VID_...\n",
      "Unknown    USB             ��୥��� USB-���業���� (USB�3.0)                                              USB\\ROOT...\n",
      "OK         USB             �����塞� ���-����஫��� AMD USB 3.10 - 1.10 (��������)                     PCI\\VEN_...\n",
      "OK         USB             ���⠢��� USB ���ன�⢮                                                         USB\\VID_...\n",
      "OK         USB             �����塞� ���-����஫��� AMD USB 3.10 - 1.10 (��������)                     PCI\\VEN_...\n",
      "Unknown    USB             �����塞� ���-����஫��� AMD USB 3.0 - 1.0 (��������)                       PCI\\VEN_...\n",
      "Unknown    USB             ���⠢��� USB ���ன�⢮                                                         USB\\VID_...\n",
      "Unknown    USB             ���⠢��� USB ���ன�⢮                                                         USB\\VID_...\n",
      "OK         USB             ��୥��� USB-���業���� (USB�3.0)                                              USB\\ROOT...\n",
      "OK         USB             ������ᠫ�� USB-���業����                                                   USB\\VID_...\n",
      "Unknown    USB             ��୥��� USB-���業���� (USB�3.0)                                              USB\\ROOT...\n",
      "Unknown    USB             ���⠢��� USB ���ன�⢮                                                         USB\\VID_...\n",
      "OK         USB             ��୥��� USB-���業���� (USB�3.0)                                              USB\\ROOT...\n",
      "Unknown    USB             ���⠢��� USB ���ன�⢮                                                         USB\\VID_...\n",
      "Unknown    USB             ���⠢��� USB ���ன�⢮                                                         USB\\VID_...\n",
      "\n",
      "\n"
     ]
    }
   ],
   "source": [
    "result = !powershell \"Get-PnpDevice -Class USB\"\n",
    "print(\"\\n\".join(result))\n"
   ]
  },
  {
   "cell_type": "code",
   "execution_count": 2,
   "metadata": {},
   "outputs": [],
   "source": [
    "import hid\n",
    "\n",
    "VENDOR_ID = 0x1234  # Замените на Vendor ID вашей мыши\n",
    "PRODUCT_ID = 0x5678  # Замените на Product ID вашей мыши\n",
    "\n",
    "def get_battery_level():\n",
    "    try:\n",
    "        with hid.Device(VENDOR_ID, PRODUCT_ID) as h:\n",
    "            # Пример команды для запроса заряда батареи\n",
    "            h.write([0x01, 0x02])  # Эта команда зависит от устройства\n",
    "            response = h.read(64)\n",
    "            # Расшифровываем ответ. Это тоже зависит от устройства.\n",
    "            battery_level = response[0]  # Это пример, как может быть организован ответ\n",
    "            return battery_level\n",
    "    except Exception as e:\n",
    "        print(f\"Error: {e}\")\n",
    "        return None\n",
    "\n",
    "battery_level = get_battery_level()\n",
    "if battery_level is not None:\n",
    "    print(f\"Battery level: {battery_level}%\")\n",
    "else:\n",
    "    print(\"Не удалось получить уровень заряда.\")\n"
   ]
  },
  {
   "cell_type": "code",
   "execution_count": 2,
   "metadata": {},
   "outputs": [],
   "source": [
    "def get_battery_percentage():\n",
    "    battery = psutil.sensors_battery()\n",
    "    return battery.percent if battery else None\n",
    "\n",
    "def create_image(percentage):\n",
    "    # Создаем изображение для значка\n",
    "    width = 64\n",
    "    height = 64\n",
    "    image = Image.new('RGB', (width, height), \"white\")\n",
    "    draw = ImageDraw.Draw(image)\n",
    "    text = f'{percentage}%'\n",
    "    draw.text((10, 10), text, fill=\"black\")\n",
    "    return image\n",
    "\n",
    "def update_icon(icon):\n",
    "    percentage = get_battery_percentage()\n",
    "    icon.icon = create_image(percentage)\n",
    "    icon.visible = True\n",
    "\n",
    "def quit_action(icon, item):\n",
    "    icon.stop()\n",
    "\n",
    "menu = Menu(\n",
    "    MenuItem('Выход', quit_action)\n",
    ")\n",
    "\n",
    "icon = Icon(\"Battery\", menu=menu)\n",
    "update_icon(icon)\n",
    "icon.run()\n"
   ]
  }
 ],
 "metadata": {
  "kernelspec": {
   "display_name": "Python 3 (ipykernel)",
   "language": "python",
   "name": "python3"
  },
  "language_info": {
   "codemirror_mode": {
    "name": "ipython",
    "version": 3
   },
   "file_extension": ".py",
   "mimetype": "text/x-python",
   "name": "python",
   "nbconvert_exporter": "python",
   "pygments_lexer": "ipython3",
   "version": "3.10.0"
  }
 },
 "nbformat": 4,
 "nbformat_minor": 2
}
