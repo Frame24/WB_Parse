{
 "cells": [
  {
   "cell_type": "code",
   "execution_count": 1,
   "metadata": {},
   "outputs": [],
   "source": [
    "import cudf.pandas\n",
    "cudf.pandas.install()\n",
    "\n",
    "import pandas as pd"
   ]
  },
  {
   "cell_type": "code",
   "execution_count": 2,
   "metadata": {},
   "outputs": [
    {
     "name": "stdout",
     "output_type": "stream",
     "text": [
      "Available GPUs:\n",
      "GPU 0: b'NVIDIA GeForce RTX 3060'\n"
     ]
    }
   ],
   "source": [
    "import cupy as cp\n",
    "\n",
    "gpus = cp.cuda.runtime.getDeviceCount()\n",
    "if gpus:\n",
    "    print(\"Available GPUs:\")\n",
    "    for i in range(gpus):\n",
    "        print(f\"GPU {i}: {cp.cuda.runtime.getDeviceProperties(i)['name']}\")\n",
    "else:\n",
    "    print(\"No GPU available.\")\n"
   ]
  },
  {
   "cell_type": "code",
   "execution_count": 3,
   "metadata": {},
   "outputs": [],
   "source": [
    "import os\n",
    "import language_tool_python\n",
    "from spellchecker import SpellChecker\n",
    "from concurrent.futures import ThreadPoolExecutor, as_completed\n",
    "from tqdm import tqdm\n",
    "import spacy\n",
    "from textblob import TextBlob\n",
    "import dask.dataframe as dd\n",
    "from dask.distributed import Client, progress\n",
    "from dask import delayed, compute\n",
    "from spellchecker import SpellChecker\n",
    "import spacy\n",
    "from textblob import TextBlob\n",
    "import language_tool_python\n",
    "import dask.dataframe as dd"
   ]
  },
  {
   "cell_type": "code",
   "execution_count": 4,
   "metadata": {},
   "outputs": [
    {
     "name": "stdout",
     "output_type": "stream",
     "text": [
      "Файл '/workspace/wildberries_reviews.csv.gz' уже существует.\n"
     ]
    }
   ],
   "source": [
    "import os\n",
    "import gdown\n",
    "\n",
    "def download_file_if_not_exists(file_url, output_path):\n",
    "    \"\"\"Скачивает файл с Google Drive, если он ещё не существует в указанной директории.\"\"\"\n",
    "    # Проверка наличия файла\n",
    "    if os.path.exists(output_path):\n",
    "        print(f\"Файл '{output_path}' уже существует.\")\n",
    "    else:\n",
    "        print(f\"Файл '{output_path}' не найден. Начинаю загрузку...\")\n",
    "        gdown.download(file_url, output_path, quiet=False)\n",
    "        print(f\"Файл '{output_path}' успешно загружен.\")\n",
    "\n",
    "# Указываем URL и путь к файлу\n",
    "file_url = 'https://drive.google.com/uc?id=15pofNbomaoUap41Rcn1uNGeiJIqFd2qe'\n",
    "output_file_name = 'wildberries_reviews.csv.gz'  # Укажите реальное имя файла, которое хотите сохранить\n",
    "output_path = os.path.join(os.getcwd(), output_file_name)  # Полный путь к файлу\n",
    "\n",
    "download_file_if_not_exists(file_url, output_path)\n"
   ]
  },
  {
   "cell_type": "code",
   "execution_count": 5,
   "metadata": {},
   "outputs": [
    {
     "name": "stdout",
     "output_type": "stream",
     "text": [
      "Модель ru_core_news_lg уже установлена.\n"
     ]
    }
   ],
   "source": [
    "import subprocess\n",
    "\n",
    "def install_spacy_model_if_not_exists(model_name):\n",
    "    \"\"\"Устанавливает модель spaCy, если она ещё не установлена.\"\"\"\n",
    "    try:\n",
    "        # Получаем список установленных моделей\n",
    "        result = subprocess.run(\n",
    "            ['python', '-m', 'spacy', 'info'],\n",
    "            capture_output=True, text=True, check=True\n",
    "        )\n",
    "        \n",
    "        # Проверяем наличие модели в списке установленных\n",
    "        if model_name in result.stdout:\n",
    "            print(f\"Модель {model_name} уже установлена.\")\n",
    "        else:\n",
    "            print(f\"Модель {model_name} не найдена. Устанавливаю...\")\n",
    "            subprocess.run(['python', '-m', 'spacy', 'download', model_name], check=True)\n",
    "            print(f\"Модель {model_name} успешно установлена.\")\n",
    "    \n",
    "    except subprocess.CalledProcessError as e:\n",
    "        print(f\"Ошибка при выполнении команды: {e}\")\n",
    "\n",
    "# Замените 'ru_core_news_lg' на нужное имя модели\n",
    "install_spacy_model_if_not_exists('ru_core_news_lg')"
   ]
  },
  {
   "cell_type": "code",
   "execution_count": 6,
   "metadata": {},
   "outputs": [],
   "source": [
    "import subprocess\n",
    "from language_tool_python import LanguageTool\n",
    "# Запуск команды\n",
    "process = subprocess.Popen(\n",
    "    ['find', '/', '-name', 'languagetool-server.jar'],\n",
    "    stdout=subprocess.PIPE,\n",
    "    stderr=subprocess.DEVNULL,\n",
    "    text=True\n",
    ")\n",
    "\n",
    "# Чтение вывода\n",
    "output, _ = process.communicate()\n",
    "\n",
    "# # Удаление пробелов и пустых строк\n",
    "# LANGUAGETOOL_DIR = [line.strip() for line in output.splitlines() if line.strip()][0]\n",
    "\n",
    "# Функция для установки необходимых пакетов и загрузки LanguageTool, если еще не загружено\n",
    "def setup_languagetool():\n",
    "    if not os.path.isdir(output):\n",
    "        print(\"Установка необходимых пакетов и загрузка LanguageTool...\")\n",
    "        os.system('apt update && apt install -y default-jre wget unzip')\n",
    "        os.system('wget https://languagetool.org/download/LanguageTool-stable.zip && unzip -o LanguageTool-stable.zip')\n",
    "    else:\n",
    "        print(\"LanguageTool уже установлен.\")\n",
    "        \n",
    "temp = LanguageTool('ru-RU', config={'maxSpellingSuggestions': 1})\n",
    "temp.close()"
   ]
  },
  {
   "cell_type": "code",
   "execution_count": 7,
   "metadata": {},
   "outputs": [
    {
     "name": "stderr",
     "output_type": "stream",
     "text": [
      "Создание экземпляров LanguageTool: 100%|██████████████████████████████████████████████████████████████████████████████████████████████████████████████████████████████████| 6/6 [00:14<00:00,  2.42s/it]\n",
      "Заполнение очереди строками: 100%|████████████████████████████████████████████████████████████████████████████████████████████████████████████████████████████████| 4000/4000 [00:00<00:00, 5429.66it/s]\n",
      "Обработка текста:  32%|████████████████████████████████████████████▋                                                                                                | 1269/4000 [01:10<02:10, 20.88it/s]"
     ]
    },
    {
     "name": "stdout",
     "output_type": "stream",
     "text": [
      "Сохранены промежуточные результаты в corrected_wildberries_reviews_01-08-2024_10-59-53.csv\n"
     ]
    },
    {
     "name": "stderr",
     "output_type": "stream",
     "text": [
      "Обработка текста:  33%|██████████████████████████████████████████████▏                                                                                              | 1311/4000 [01:12<02:08, 20.97it/s]"
     ]
    },
    {
     "name": "stdout",
     "output_type": "stream",
     "text": [
      "Сохранены промежуточные результаты в corrected_wildberries_reviews_01-08-2024_10-59-53.csv\n",
      "Сохранены промежуточные результаты в corrected_wildberries_reviews_01-08-2024_10-59-53.csv\n"
     ]
    },
    {
     "name": "stderr",
     "output_type": "stream",
     "text": [
      "Обработка текста:  33%|██████████████████████████████████████████████▌                                                                                              | 1322/4000 [01:12<01:50, 24.21it/s]"
     ]
    },
    {
     "name": "stdout",
     "output_type": "stream",
     "text": [
      "Сохранены промежуточные результаты в corrected_wildberries_reviews_01-08-2024_10-59-53.csv\n"
     ]
    },
    {
     "name": "stderr",
     "output_type": "stream",
     "text": [
      "Обработка текста:  35%|█████████████████████████████████████████████████▏                                                                                           | 1395/4000 [01:15<02:04, 20.95it/s]"
     ]
    },
    {
     "name": "stdout",
     "output_type": "stream",
     "text": [
      "Сохранены промежуточные результаты в corrected_wildberries_reviews_01-08-2024_10-59-53.csv\n"
     ]
    },
    {
     "name": "stderr",
     "output_type": "stream",
     "text": [
      "Обработка текста:  35%|█████████████████████████████████████████████████▉                                                                                           | 1417/4000 [01:16<02:05, 20.56it/s]"
     ]
    },
    {
     "name": "stdout",
     "output_type": "stream",
     "text": [
      "Сохранены промежуточные результаты в corrected_wildberries_reviews_01-08-2024_10-59-53.csv\n"
     ]
    },
    {
     "name": "stderr",
     "output_type": "stream",
     "text": [
      "Обработка текста:  62%|██████████████████████████████████████████████████████████████████████████████████████▊                                                      | 2463/4000 [02:04<01:07, 22.67it/s]"
     ]
    },
    {
     "name": "stdout",
     "output_type": "stream",
     "text": [
      "Сохранены промежуточные результаты в corrected_wildberries_reviews_01-08-2024_10-59-53.csv\n"
     ]
    },
    {
     "name": "stderr",
     "output_type": "stream",
     "text": [
      "Обработка текста:  63%|████████████████████████████████████████████████████████████████████████████████████████▌                                                    | 2512/4000 [02:06<01:08, 21.62it/s]"
     ]
    },
    {
     "name": "stdout",
     "output_type": "stream",
     "text": [
      "Сохранены промежуточные результаты в corrected_wildberries_reviews_01-08-2024_10-59-53.csv\n"
     ]
    },
    {
     "name": "stderr",
     "output_type": "stream",
     "text": [
      "Обработка текста:  65%|███████████████████████████████████████████████████████████████████████████████████████████▌                                                 | 2599/4000 [02:10<00:56, 24.95it/s]"
     ]
    },
    {
     "name": "stdout",
     "output_type": "stream",
     "text": [
      "Сохранены промежуточные результаты в corrected_wildberries_reviews_01-08-2024_10-59-53.csv\n"
     ]
    },
    {
     "name": "stderr",
     "output_type": "stream",
     "text": [
      "Обработка текста:  68%|███████████████████████████████████████████████████████████████████████████████████████████████▊                                             | 2719/4000 [02:15<00:52, 24.63it/s]"
     ]
    },
    {
     "name": "stdout",
     "output_type": "stream",
     "text": [
      "Сохранены промежуточные результаты в corrected_wildberries_reviews_01-08-2024_10-59-53.csv\n"
     ]
    },
    {
     "name": "stderr",
     "output_type": "stream",
     "text": [
      "Обработка текста:  68%|████████████████████████████████████████████████████████████████████████████████████████████████                                             | 2726/4000 [02:16<01:05, 19.46it/s]"
     ]
    },
    {
     "name": "stdout",
     "output_type": "stream",
     "text": [
      "Сохранены промежуточные результаты в corrected_wildberries_reviews_01-08-2024_10-59-53.csv\n"
     ]
    },
    {
     "name": "stderr",
     "output_type": "stream",
     "text": [
      "Обработка текста:  72%|██████████████████████████████████████████████████████████████████████████████████████████████████████                                       | 2894/4000 [02:24<00:50, 21.84it/s]"
     ]
    },
    {
     "name": "stdout",
     "output_type": "stream",
     "text": [
      "Сохранены промежуточные результаты в corrected_wildberries_reviews_01-08-2024_10-59-53.csv\n"
     ]
    },
    {
     "name": "stderr",
     "output_type": "stream",
     "text": [
      "Обработка текста:  96%|███████████████████████████████████████████████████████████████████████████████████████████████████████████████████████████████████████▌     | 3847/4000 [03:07<00:06, 21.90it/s]"
     ]
    },
    {
     "name": "stdout",
     "output_type": "stream",
     "text": [
      "Сохранены промежуточные результаты в corrected_wildberries_reviews_01-08-2024_10-59-53.csv\n"
     ]
    },
    {
     "name": "stderr",
     "output_type": "stream",
     "text": [
      "Обработка текста:  97%|████████████████████████████████████████████████████████████████████████████████████████████████████████████████████████████████████████▎    | 3867/4000 [03:07<00:05, 25.31it/s]"
     ]
    },
    {
     "name": "stdout",
     "output_type": "stream",
     "text": [
      "Сохранены промежуточные результаты в corrected_wildberries_reviews_01-08-2024_10-59-53.csv\n"
     ]
    },
    {
     "name": "stderr",
     "output_type": "stream",
     "text": [
      "Обработка текста: 100%|█████████████████████████████████████████████████████████████████████████████████████████████████████████████████████████████████████████████| 4000/4000 [03:13<00:00, 20.63it/s]"
     ]
    },
    {
     "name": "stdout",
     "output_type": "stream",
     "text": [
      "Сохранены промежуточные результаты в corrected_wildberries_reviews_01-08-2024_10-59-53.csv\n",
      "Сохранены промежуточные результаты в corrected_wildberries_reviews_01-08-2024_10-59-53.csv\n",
      "Сохранены промежуточные результаты в corrected_wildberries_reviews_01-08-2024_10-59-53.csv\n",
      "Сохранены промежуточные результаты в corrected_wildberries_reviews_01-08-2024_10-59-53.csv\n",
      "Сохранены промежуточные результаты в corrected_wildberries_reviews_01-08-2024_10-59-53.csv\n",
      "Сохранены промежуточные результаты в corrected_wildberries_reviews_01-08-2024_10-59-53.csv\n"
     ]
    },
    {
     "name": "stderr",
     "output_type": "stream",
     "text": [
      "\n"
     ]
    }
   ],
   "source": [
    "import threading\n",
    "import queue\n",
    "import pandas as pd\n",
    "import os\n",
    "from tqdm import tqdm\n",
    "import language_tool_python\n",
    "from datetime import datetime\n",
    "\n",
    "NUM_TOOLS = 6\n",
    "MAX_CHECK_THREADS = 10\n",
    "\n",
    "# Получаем текущие дату и время\n",
    "current_datetime = datetime.now()\n",
    "\n",
    "# Форматируем дату и время в российском формате с секундами\n",
    "formatted_datetime = current_datetime.strftime(\"%d-%m-%Y_%H-%M-%S\")\n",
    "\n",
    "output_file_name = f\"corrected_wildberries_reviews_{formatted_datetime}.csv\"\n",
    "\n",
    "\n",
    "def create_tool(tools_queue, pbar):\n",
    "    tool = language_tool_python.LanguageTool('ru-RU', config={'maxSpellingSuggestions': 1, 'maxCheckThreads': MAX_CHECK_THREADS})\n",
    "    tools_queue.put(tool)\n",
    "    pbar.update(1)\n",
    "\n",
    "def correct_text(text, tool):\n",
    "    if not isinstance(text, str):\n",
    "        return text\n",
    "    try:\n",
    "        corrected_text = tool.correct(text)\n",
    "        return corrected_text if corrected_text != text else text\n",
    "    except Exception as e:\n",
    "        print(f\"Ошибка исправления текста: {e}\")\n",
    "        return text\n",
    "\n",
    "def process_text(text_queue, output_file_path, save_interval, lock, progress_bar):\n",
    "    temp_results = []\n",
    "    while not text_queue.empty():\n",
    "        idx, text, tool = text_queue.get()\n",
    "        corrected_text = correct_text(text, tool)\n",
    "        if corrected_text != text:\n",
    "            temp_results.append((idx, corrected_text))\n",
    "        text_queue.task_done()\n",
    "        progress_bar.update(1)\n",
    "\n",
    "        if len(temp_results) >= save_interval:\n",
    "            with lock:\n",
    "                save_partial_results(temp_results, output_file_path)\n",
    "                temp_results.clear()\n",
    "\n",
    "    if temp_results:\n",
    "        with lock:\n",
    "            save_partial_results(temp_results, output_file_path)\n",
    "\n",
    "def save_partial_results(results, output_file_path):\n",
    "    results.sort(key=lambda x: x[0])\n",
    "    df = pd.DataFrame(results, columns=[\"id\", 'corrected_text'])\n",
    "    if os.path.exists(output_file_path):\n",
    "        df.to_csv(output_file_path, mode='a', header=False, index=False)\n",
    "    else:\n",
    "        df.to_csv(output_file_path, index=False)\n",
    "    print(f\"Сохранены промежуточные результаты в {output_file_path}\")\n",
    "\n",
    "def process_data(df, output_file_path, num_tools, save_interval=1000):\n",
    "    tools_queue = queue.Queue()\n",
    "    threads = []\n",
    "    lock = threading.Lock()\n",
    "\n",
    "    with tqdm(total=num_tools, desc=\"Создание экземпляров LanguageTool\") as pbar:\n",
    "        for _ in range(num_tools):\n",
    "            thread = threading.Thread(target=create_tool, args=(tools_queue, pbar))\n",
    "            thread.start()\n",
    "            threads.append(thread)\n",
    "\n",
    "        for thread in threads:\n",
    "            thread.join()\n",
    "\n",
    "    tools = [tools_queue.get() for _ in range(num_tools)]\n",
    "\n",
    "    text_queue = queue.Queue()\n",
    "\n",
    "    with tqdm(total=len(df), desc=\"Заполнение очереди строками\") as pbar:\n",
    "        for idx, row in df.iterrows():\n",
    "            tool = tools[idx % len(tools)]\n",
    "            text_queue.put((idx, row['review_full_text'], tool))\n",
    "            pbar.update(1)\n",
    "\n",
    "    with tqdm(total=text_queue.qsize(), desc=\"Обработка текста\") as progress_bar:\n",
    "        threads = []\n",
    "        for _ in range(num_tools):\n",
    "            thread = threading.Thread(target=process_text, args=(text_queue, output_file_path, save_interval, lock, progress_bar))\n",
    "            thread.start()\n",
    "            threads.append(thread)\n",
    "\n",
    "        text_queue.join()\n",
    "        for thread in threads:\n",
    "            thread.join()\n",
    "\n",
    "\n",
    "df = pd.read_csv('wildberries_reviews.csv.gz', compression='gzip')[30000:34000]\n",
    "process_data(df, output_file_name, num_tools=NUM_TOOLS, save_interval=100)\n"
   ]
  },
  {
   "cell_type": "code",
   "execution_count": 8,
   "metadata": {},
   "outputs": [
    {
     "name": "stdout",
     "output_type": "stream",
     "text": [
      "corrected_wildberries_reviews.csv.gz_part_1.csv.gz\n",
      "corrected_wildberries_reviews_01-08-2024_10-37-24.csv.gz.csv\n",
      "corrected_wildberries_reviews_01-08-2024_10-42-44.csv\n",
      "corrected_wildberries_reviews_01-08-2024_10-51-00.csv\n",
      "corrected_wildberries_reviews_01-08-2024_10-59-53.csv\n",
      "cufile.log\n",
      "rmm_log.txt\n",
      "wildberries_reviews.csv\n",
      "wildberries_reviews.csv.gz\n"
     ]
    }
   ],
   "source": [
    "!ls"
   ]
  },
  {
   "cell_type": "code",
   "execution_count": 9,
   "metadata": {},
   "outputs": [
    {
     "data": {
      "text/html": [
       "<div>\n",
       "<style scoped>\n",
       "    .dataframe tbody tr th:only-of-type {\n",
       "        vertical-align: middle;\n",
       "    }\n",
       "\n",
       "    .dataframe tbody tr th {\n",
       "        vertical-align: top;\n",
       "    }\n",
       "\n",
       "    .dataframe thead th {\n",
       "        text-align: right;\n",
       "    }\n",
       "</style>\n",
       "<table border=\"1\" class=\"dataframe\">\n",
       "  <thead>\n",
       "    <tr style=\"text-align: right;\">\n",
       "      <th></th>\n",
       "      <th>id</th>\n",
       "      <th>corrected_text</th>\n",
       "    </tr>\n",
       "  </thead>\n",
       "  <tbody>\n",
       "    <tr>\n",
       "      <th>0</th>\n",
       "      <td>30000</td>\n",
       "      <td>Пахнет на весь салон)) пахнет супер приятно, д...</td>\n",
       "    </tr>\n",
       "    <tr>\n",
       "      <th>1</th>\n",
       "      <td>30021</td>\n",
       "      <td>Пахнет каким то свежим перегаром. Явно не пако...</td>\n",
       "    </tr>\n",
       "    <tr>\n",
       "      <th>2</th>\n",
       "      <td>30039</td>\n",
       "      <td>Авто парфюм реально суперский🔥все  ришло в цел...</td>\n",
       "    </tr>\n",
       "    <tr>\n",
       "      <th>3</th>\n",
       "      <td>30045</td>\n",
       "      <td>Аромат сильный, похож на белый пакость, но как...</td>\n",
       "    </tr>\n",
       "    <tr>\n",
       "      <th>4</th>\n",
       "      <td>30056</td>\n",
       "      <td>Не знаю почему пишут то, что «не пахнет», «сов...</td>\n",
       "    </tr>\n",
       "    <tr>\n",
       "      <th>...</th>\n",
       "      <td>...</td>\n",
       "      <td>...</td>\n",
       "    </tr>\n",
       "    <tr>\n",
       "      <th>1774</th>\n",
       "      <td>33964</td>\n",
       "      <td>Нужны кое-какие действия с домкратом . Сам клю...</td>\n",
       "    </tr>\n",
       "    <tr>\n",
       "      <th>1775</th>\n",
       "      <td>33970</td>\n",
       "      <td>Цена в половину цены домкрата, что дорого как ...</td>\n",
       "    </tr>\n",
       "    <tr>\n",
       "      <th>1776</th>\n",
       "      <td>33976</td>\n",
       "      <td>Ещё не побывал, но выглядеть потрясающе, механ...</td>\n",
       "    </tr>\n",
       "    <tr>\n",
       "      <th>1777</th>\n",
       "      <td>33982</td>\n",
       "      <td>Проверил работать всё хорошо 👍</td>\n",
       "    </tr>\n",
       "    <tr>\n",
       "      <th>1778</th>\n",
       "      <td>33999</td>\n",
       "      <td>Вся инструкция болтается клепки на честном сло...</td>\n",
       "    </tr>\n",
       "  </tbody>\n",
       "</table>\n",
       "<p>1779 rows × 2 columns</p>\n",
       "</div>"
      ],
      "text/plain": [
       "         id                                     corrected_text\n",
       "0     30000  Пахнет на весь салон)) пахнет супер приятно, д...\n",
       "1     30021  Пахнет каким то свежим перегаром. Явно не пако...\n",
       "2     30039  Авто парфюм реально суперский🔥все  ришло в цел...\n",
       "3     30045  Аромат сильный, похож на белый пакость, но как...\n",
       "4     30056  Не знаю почему пишут то, что «не пахнет», «сов...\n",
       "...     ...                                                ...\n",
       "1774  33964  Нужны кое-какие действия с домкратом . Сам клю...\n",
       "1775  33970  Цена в половину цены домкрата, что дорого как ...\n",
       "1776  33976  Ещё не побывал, но выглядеть потрясающе, механ...\n",
       "1777  33982                     Проверил работать всё хорошо 👍\n",
       "1778  33999  Вся инструкция болтается клепки на честном сло...\n",
       "\n",
       "[1779 rows x 2 columns]"
      ]
     },
     "execution_count": 9,
     "metadata": {},
     "output_type": "execute_result"
    }
   ],
   "source": [
    "t_df = pd.read_csv(output_file_name)\n",
    "t_df"
   ]
  }
 ],
 "metadata": {
  "kernelspec": {
   "display_name": "Python 3 (ipykernel)",
   "language": "python",
   "name": "python3"
  },
  "language_info": {
   "codemirror_mode": {
    "name": "ipython",
    "version": 3
   },
   "file_extension": ".py",
   "mimetype": "text/x-python",
   "name": "python",
   "nbconvert_exporter": "python",
   "pygments_lexer": "ipython3",
   "version": "3.10.14"
  }
 },
 "nbformat": 4,
 "nbformat_minor": 2
}
