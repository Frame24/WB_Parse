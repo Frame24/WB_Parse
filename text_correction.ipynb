{
 "cells": [
  {
   "cell_type": "code",
   "execution_count": 1,
   "metadata": {},
   "outputs": [],
   "source": [
    "import cudf.pandas\n",
    "cudf.pandas.install()\n",
    "\n",
    "import pandas as pd"
   ]
  },
  {
   "cell_type": "code",
   "execution_count": 2,
   "metadata": {},
   "outputs": [
    {
     "name": "stdout",
     "output_type": "stream",
     "text": [
      "Available GPUs:\n",
      "GPU 0: b'NVIDIA GeForce RTX 3060'\n"
     ]
    }
   ],
   "source": [
    "import cupy as cp\n",
    "\n",
    "gpus = cp.cuda.runtime.getDeviceCount()\n",
    "if gpus:\n",
    "    print(\"Available GPUs:\")\n",
    "    for i in range(gpus):\n",
    "        print(f\"GPU {i}: {cp.cuda.runtime.getDeviceProperties(i)['name']}\")\n",
    "else:\n",
    "    print(\"No GPU available.\")\n"
   ]
  },
  {
   "cell_type": "code",
   "execution_count": 3,
   "metadata": {},
   "outputs": [],
   "source": [
    "import os\n",
    "import language_tool_python\n",
    "from spellchecker import SpellChecker\n",
    "from concurrent.futures import ThreadPoolExecutor, as_completed\n",
    "from tqdm import tqdm\n",
    "import spacy\n",
    "from textblob import TextBlob\n",
    "import dask.dataframe as dd\n",
    "from dask.distributed import Client, progress\n",
    "from dask import delayed, compute\n",
    "from spellchecker import SpellChecker\n",
    "import spacy\n",
    "from textblob import TextBlob\n",
    "import language_tool_python\n",
    "import dask.dataframe as dd"
   ]
  },
  {
   "cell_type": "code",
   "execution_count": 4,
   "metadata": {},
   "outputs": [
    {
     "name": "stdout",
     "output_type": "stream",
     "text": [
      "Файл '/workspace/wildberries_reviews.csv.gz' уже существует.\n"
     ]
    }
   ],
   "source": [
    "import os\n",
    "import gdown\n",
    "\n",
    "def download_file_if_not_exists(file_url, output_path):\n",
    "    \"\"\"Скачивает файл с Google Drive, если он ещё не существует в указанной директории.\"\"\"\n",
    "    # Проверка наличия файла\n",
    "    if os.path.exists(output_path):\n",
    "        print(f\"Файл '{output_path}' уже существует.\")\n",
    "    else:\n",
    "        print(f\"Файл '{output_path}' не найден. Начинаю загрузку...\")\n",
    "        gdown.download(file_url, output_path, quiet=False)\n",
    "        print(f\"Файл '{output_path}' успешно загружен.\")\n",
    "\n",
    "# Указываем URL и путь к файлу\n",
    "file_url = 'https://drive.google.com/uc?id=15pofNbomaoUap41Rcn1uNGeiJIqFd2qe'\n",
    "output_file_name = 'wildberries_reviews.csv.gz'  # Укажите реальное имя файла, которое хотите сохранить\n",
    "output_path = os.path.join(os.getcwd(), output_file_name)  # Полный путь к файлу\n",
    "\n",
    "download_file_if_not_exists(file_url, output_path)\n"
   ]
  },
  {
   "cell_type": "code",
   "execution_count": 5,
   "metadata": {},
   "outputs": [
    {
     "name": "stdout",
     "output_type": "stream",
     "text": [
      "Модель ru_core_news_lg уже установлена.\n"
     ]
    }
   ],
   "source": [
    "import subprocess\n",
    "\n",
    "def install_spacy_model_if_not_exists(model_name):\n",
    "    \"\"\"Устанавливает модель spaCy, если она ещё не установлена.\"\"\"\n",
    "    try:\n",
    "        # Получаем список установленных моделей\n",
    "        result = subprocess.run(\n",
    "            ['python', '-m', 'spacy', 'info'],\n",
    "            capture_output=True, text=True, check=True\n",
    "        )\n",
    "        \n",
    "        # Проверяем наличие модели в списке установленных\n",
    "        if model_name in result.stdout:\n",
    "            print(f\"Модель {model_name} уже установлена.\")\n",
    "        else:\n",
    "            print(f\"Модель {model_name} не найдена. Устанавливаю...\")\n",
    "            subprocess.run(['python', '-m', 'spacy', 'download', model_name], check=True)\n",
    "            print(f\"Модель {model_name} успешно установлена.\")\n",
    "    \n",
    "    except subprocess.CalledProcessError as e:\n",
    "        print(f\"Ошибка при выполнении команды: {e}\")\n",
    "\n",
    "# Замените 'ru_core_news_lg' на нужное имя модели\n",
    "install_spacy_model_if_not_exists('ru_core_news_lg')"
   ]
  },
  {
   "cell_type": "code",
   "execution_count": 6,
   "metadata": {},
   "outputs": [],
   "source": [
    "import subprocess\n",
    "from language_tool_python import LanguageTool\n",
    "# Запуск команды\n",
    "process = subprocess.Popen(\n",
    "    ['find', '/', '-name', 'languagetool-server.jar'],\n",
    "    stdout=subprocess.PIPE,\n",
    "    stderr=subprocess.DEVNULL,\n",
    "    text=True\n",
    ")\n",
    "\n",
    "# Чтение вывода\n",
    "output, _ = process.communicate()\n",
    "\n",
    "# # Удаление пробелов и пустых строк\n",
    "# LANGUAGETOOL_DIR = [line.strip() for line in output.splitlines() if line.strip()][0]\n",
    "\n",
    "# Функция для установки необходимых пакетов и загрузки LanguageTool, если еще не загружено\n",
    "def setup_languagetool():\n",
    "    if not os.path.isdir(output):\n",
    "        print(\"Установка необходимых пакетов и загрузка LanguageTool...\")\n",
    "        os.system('apt update && apt install -y default-jre wget unzip')\n",
    "        os.system('wget https://languagetool.org/download/LanguageTool-stable.zip && unzip -o LanguageTool-stable.zip')\n",
    "    else:\n",
    "        print(\"LanguageTool уже установлен.\")\n",
    "        \n",
    "temp = LanguageTool('ru-RU', config={'maxSpellingSuggestions': 1})\n",
    "temp.close()"
   ]
  },
  {
   "cell_type": "code",
   "execution_count": 22,
   "metadata": {},
   "outputs": [
    {
     "name": "stderr",
     "output_type": "stream",
     "text": [
      "Создание экземпляров LanguageTool: 100%|██████████████████████████████████████████████████████████████████████████████████████████████████████████████████████████████████| 6/6 [00:13<00:00,  2.31s/it]\n",
      "Заполнение очереди строками: 100%|████████████████████████████████████████████████████████████████████████████████████████████████████████████████████████████████| 1000/1000 [00:00<00:00, 3178.49it/s]\n",
      "Обработка текста: 100%|█████████████████████████████████████████████████████████████████████████████████████████████████████████████████████████████████████████████| 1000/1000 [00:55<00:00, 18.04it/s]"
     ]
    },
    {
     "name": "stdout",
     "output_type": "stream",
     "text": [
      "Сохранены промежуточные результаты в corrected_wildberries_reviews_01-08-2024_11-26-00.csv\n",
      "Сохранены промежуточные результаты в corrected_wildberries_reviews_01-08-2024_11-26-00.csv\n",
      "Сохранены промежуточные результаты в corrected_wildberries_reviews_01-08-2024_11-26-00.csv\n",
      "Сохранены промежуточные результаты в corrected_wildberries_reviews_01-08-2024_11-26-00.csv\n",
      "Сохранены промежуточные результаты в corrected_wildberries_reviews_01-08-2024_11-26-00.csv\n",
      "Сохранены промежуточные результаты в corrected_wildberries_reviews_01-08-2024_11-26-00.csv\n"
     ]
    },
    {
     "name": "stderr",
     "output_type": "stream",
     "text": [
      "\n",
      "Заполнение очереди строками: 100%|████████████████████████████████████████████████████████████████████████████████████████████████████████████████████████████████| 1000/1000 [00:00<00:00, 4875.06it/s]\n",
      "Обработка текста: 100%|█████████████████████████████████████████████████████████████████████████████████████████████████████████████████████████████████████████████| 1000/1000 [00:45<00:00, 22.22it/s]\n"
     ]
    },
    {
     "name": "stdout",
     "output_type": "stream",
     "text": [
      "Сохранены промежуточные результаты в corrected_wildberries_reviews_01-08-2024_11-26-00.csv\n",
      "Сохранены промежуточные результаты в corrected_wildberries_reviews_01-08-2024_11-26-00.csv\n",
      "Сохранены промежуточные результаты в corrected_wildberries_reviews_01-08-2024_11-26-00.csv\n",
      "Сохранены промежуточные результаты в corrected_wildberries_reviews_01-08-2024_11-26-00.csv\n",
      "Сохранены промежуточные результаты в corrected_wildberries_reviews_01-08-2024_11-26-00.csv\n",
      "Сохранены промежуточные результаты в corrected_wildberries_reviews_01-08-2024_11-26-00.csv\n"
     ]
    },
    {
     "name": "stderr",
     "output_type": "stream",
     "text": [
      "Заполнение очереди строками: 100%|████████████████████████████████████████████████████████████████████████████████████████████████████████████████████████████████| 1000/1000 [00:00<00:00, 4766.72it/s]\n",
      "Обработка текста:  10%|██████████████▏                                                                                                                               | 100/1000 [00:05<00:47, 19.13it/s]\n"
     ]
    },
    {
     "name": "stdout",
     "output_type": "stream",
     "text": [
      "Ошибка исправления текста: 'NoneType' object has no attribute 'terminate'\n",
      "Ошибка исправления текста: 'Popen' object has no attribute '_fileobj2output'\n"
     ]
    },
    {
     "ename": "KeyboardInterrupt",
     "evalue": "",
     "output_type": "error",
     "traceback": [
      "\u001b[0;31m---------------------------------------------------------------------------\u001b[0m",
      "\u001b[0;31mKeyboardInterrupt\u001b[0m                         Traceback (most recent call last)",
      "Cell \u001b[0;32mIn[22], line 116\u001b[0m\n\u001b[1;32m    113\u001b[0m         process_data_chunk(chunk, output_file_path, tools, save_interval)\n\u001b[1;32m    115\u001b[0m \u001b[38;5;66;03m# Пример вызова функции для анализа строк с 30000 по 34000\u001b[39;00m\n\u001b[0;32m--> 116\u001b[0m \u001b[43mprocess_data\u001b[49m\u001b[43m(\u001b[49m\u001b[38;5;124;43m'\u001b[39;49m\u001b[38;5;124;43mwildberries_reviews.csv.gz\u001b[39;49m\u001b[38;5;124;43m'\u001b[39;49m\u001b[43m,\u001b[49m\u001b[43m \u001b[49m\u001b[43moutput_file_name\u001b[49m\u001b[43m,\u001b[49m\u001b[43m \u001b[49m\u001b[43mnum_tools\u001b[49m\u001b[38;5;241;43m=\u001b[39;49m\u001b[43mNUM_TOOLS\u001b[49m\u001b[43m,\u001b[49m\u001b[43m \u001b[49m\u001b[43msave_interval\u001b[49m\u001b[38;5;241;43m=\u001b[39;49m\u001b[38;5;241;43m100\u001b[39;49m\u001b[43m,\u001b[49m\u001b[43m \u001b[49m\u001b[43mchunk_size\u001b[49m\u001b[38;5;241;43m=\u001b[39;49m\u001b[43mCHUNK_SIZE\u001b[49m\u001b[43m,\u001b[49m\u001b[43m \u001b[49m\u001b[43mstart_row\u001b[49m\u001b[38;5;241;43m=\u001b[39;49m\u001b[38;5;241;43m30000\u001b[39;49m\u001b[43m,\u001b[49m\u001b[43m \u001b[49m\u001b[43mend_row\u001b[49m\u001b[38;5;241;43m=\u001b[39;49m\u001b[38;5;241;43m34000\u001b[39;49m\u001b[43m)\u001b[49m\n",
      "Cell \u001b[0;32mIn[22], line 113\u001b[0m, in \u001b[0;36mprocess_data\u001b[0;34m(file_path, output_file_path, num_tools, save_interval, chunk_size, start_row, end_row)\u001b[0m\n\u001b[1;32m    111\u001b[0m \u001b[38;5;28;01mfor\u001b[39;00m chunk \u001b[38;5;129;01min\u001b[39;00m pd\u001b[38;5;241m.\u001b[39mread_csv(file_path, compression\u001b[38;5;241m=\u001b[39m\u001b[38;5;124m'\u001b[39m\u001b[38;5;124mgzip\u001b[39m\u001b[38;5;124m'\u001b[39m, skiprows\u001b[38;5;241m=\u001b[39m\u001b[38;5;28mrange\u001b[39m(\u001b[38;5;241m1\u001b[39m, start_row\u001b[38;5;241m+\u001b[39m\u001b[38;5;241m1\u001b[39m), nrows\u001b[38;5;241m=\u001b[39mtotal_rows, chunksize\u001b[38;5;241m=\u001b[39mchunk_size, header\u001b[38;5;241m=\u001b[39m\u001b[38;5;28;01mNone\u001b[39;00m, names\u001b[38;5;241m=\u001b[39mheader):\n\u001b[1;32m    112\u001b[0m     chunk\u001b[38;5;241m.\u001b[39mindex \u001b[38;5;241m+\u001b[39m\u001b[38;5;241m=\u001b[39m start_row  \u001b[38;5;66;03m# Обновляем индексы строк\u001b[39;00m\n\u001b[0;32m--> 113\u001b[0m     \u001b[43mprocess_data_chunk\u001b[49m\u001b[43m(\u001b[49m\u001b[43mchunk\u001b[49m\u001b[43m,\u001b[49m\u001b[43m \u001b[49m\u001b[43moutput_file_path\u001b[49m\u001b[43m,\u001b[49m\u001b[43m \u001b[49m\u001b[43mtools\u001b[49m\u001b[43m,\u001b[49m\u001b[43m \u001b[49m\u001b[43msave_interval\u001b[49m\u001b[43m)\u001b[49m\n",
      "Cell \u001b[0;32mIn[22], line 83\u001b[0m, in \u001b[0;36mprocess_data_chunk\u001b[0;34m(chunk, output_file_path, tools, save_interval)\u001b[0m\n\u001b[1;32m     80\u001b[0m     thread\u001b[38;5;241m.\u001b[39mstart()\n\u001b[1;32m     81\u001b[0m     threads\u001b[38;5;241m.\u001b[39mappend(thread)\n\u001b[0;32m---> 83\u001b[0m \u001b[43mtext_queue\u001b[49m\u001b[38;5;241;43m.\u001b[39;49m\u001b[43mjoin\u001b[49m\u001b[43m(\u001b[49m\u001b[43m)\u001b[49m\n\u001b[1;32m     84\u001b[0m \u001b[38;5;28;01mfor\u001b[39;00m thread \u001b[38;5;129;01min\u001b[39;00m threads:\n\u001b[1;32m     85\u001b[0m     thread\u001b[38;5;241m.\u001b[39mjoin()\n",
      "File \u001b[0;32m/opt/conda/lib/python3.10/queue.py:90\u001b[0m, in \u001b[0;36mQueue.join\u001b[0;34m(self)\u001b[0m\n\u001b[1;32m     88\u001b[0m \u001b[38;5;28;01mwith\u001b[39;00m \u001b[38;5;28mself\u001b[39m\u001b[38;5;241m.\u001b[39mall_tasks_done:\n\u001b[1;32m     89\u001b[0m     \u001b[38;5;28;01mwhile\u001b[39;00m \u001b[38;5;28mself\u001b[39m\u001b[38;5;241m.\u001b[39munfinished_tasks:\n\u001b[0;32m---> 90\u001b[0m         \u001b[38;5;28;43mself\u001b[39;49m\u001b[38;5;241;43m.\u001b[39;49m\u001b[43mall_tasks_done\u001b[49m\u001b[38;5;241;43m.\u001b[39;49m\u001b[43mwait\u001b[49m\u001b[43m(\u001b[49m\u001b[43m)\u001b[49m\n",
      "File \u001b[0;32m/opt/conda/lib/python3.10/threading.py:320\u001b[0m, in \u001b[0;36mCondition.wait\u001b[0;34m(self, timeout)\u001b[0m\n\u001b[1;32m    318\u001b[0m \u001b[38;5;28;01mtry\u001b[39;00m:    \u001b[38;5;66;03m# restore state no matter what (e.g., KeyboardInterrupt)\u001b[39;00m\n\u001b[1;32m    319\u001b[0m     \u001b[38;5;28;01mif\u001b[39;00m timeout \u001b[38;5;129;01mis\u001b[39;00m \u001b[38;5;28;01mNone\u001b[39;00m:\n\u001b[0;32m--> 320\u001b[0m         \u001b[43mwaiter\u001b[49m\u001b[38;5;241;43m.\u001b[39;49m\u001b[43macquire\u001b[49m\u001b[43m(\u001b[49m\u001b[43m)\u001b[49m\n\u001b[1;32m    321\u001b[0m         gotit \u001b[38;5;241m=\u001b[39m \u001b[38;5;28;01mTrue\u001b[39;00m\n\u001b[1;32m    322\u001b[0m     \u001b[38;5;28;01melse\u001b[39;00m:\n",
      "\u001b[0;31mKeyboardInterrupt\u001b[0m: "
     ]
    },
    {
     "name": "stdout",
     "output_type": "stream",
     "text": [
      "Сохранены промежуточные результаты в corrected_wildberries_reviews_01-08-2024_11-26-00.csv\n",
      "Сохранены промежуточные результаты в corrected_wildberries_reviews_01-08-2024_11-26-00.csv\n",
      "Сохранены промежуточные результаты в corrected_wildberries_reviews_01-08-2024_11-26-00.csv\n",
      "Сохранены промежуточные результаты в corrected_wildberries_reviews_01-08-2024_11-26-00.csv\n",
      "Сохранены промежуточные результаты в corrected_wildberries_reviews_01-08-2024_11-26-00.csv\n",
      "Сохранены промежуточные результаты в corrected_wildberries_reviews_01-08-2024_11-26-00.csv\n"
     ]
    }
   ],
   "source": [
    "import threading\n",
    "import queue\n",
    "import pandas as pd\n",
    "import os\n",
    "from tqdm import tqdm\n",
    "import language_tool_python\n",
    "from datetime import datetime\n",
    "\n",
    "NUM_TOOLS = 6\n",
    "MAX_CHECK_THREADS = 10\n",
    "CHUNK_SIZE = 1000\n",
    "\n",
    "# Получаем текущие дату и время\n",
    "current_datetime = datetime.now()\n",
    "\n",
    "# Форматируем дату и время в российском формате с секундами\n",
    "formatted_datetime = current_datetime.strftime(\"%d-%m-%Y_%H-%M-%S\")\n",
    "\n",
    "output_file_name = f\"corrected_wildberries_reviews_{formatted_datetime}.csv\"\n",
    "\n",
    "\n",
    "def create_tool(tools_queue, pbar):\n",
    "    tool = language_tool_python.LanguageTool('ru-RU', config={'maxSpellingSuggestions': 1, 'maxCheckThreads': MAX_CHECK_THREADS})\n",
    "    tools_queue.put(tool)\n",
    "    pbar.update(1)\n",
    "\n",
    "def correct_text(text, tool):\n",
    "    if not isinstance(text, str):\n",
    "        return text\n",
    "    try:\n",
    "        corrected_text = tool.correct(text)\n",
    "        return corrected_text if corrected_text != text else text\n",
    "    except Exception as e:\n",
    "        print(f\"Ошибка исправления текста: {e}\")\n",
    "        return text\n",
    "\n",
    "def process_text(text_queue, output_file_path, save_interval, lock, progress_bar):\n",
    "    temp_results = []\n",
    "    while not text_queue.empty():\n",
    "        idx, text, tool = text_queue.get()\n",
    "        corrected_text = correct_text(text, tool)\n",
    "        if corrected_text != text:\n",
    "            temp_results.append((idx, corrected_text))\n",
    "        text_queue.task_done()\n",
    "        progress_bar.update(1)\n",
    "\n",
    "        if len(temp_results) >= save_interval:\n",
    "            with lock:\n",
    "                save_partial_results(temp_results, output_file_path)\n",
    "                temp_results.clear()\n",
    "\n",
    "    if temp_results:\n",
    "        with lock:\n",
    "            save_partial_results(temp_results, output_file_path)\n",
    "\n",
    "def save_partial_results(results, output_file_path):\n",
    "    results.sort(key=lambda x: x[0])\n",
    "    df = pd.DataFrame(results, columns=[\"id\", 'corrected_text'])\n",
    "    if os.path.exists(output_file_path):\n",
    "        df.to_csv(output_file_path, mode='a', header=False, index=False)\n",
    "    else:\n",
    "        df.to_csv(output_file_path, index=False)\n",
    "    print(f\"Сохранены промежуточные результаты в {output_file_path}\")\n",
    "\n",
    "def process_data_chunk(chunk, output_file_path, tools, save_interval=1000):\n",
    "    text_queue = queue.Queue()\n",
    "    lock = threading.Lock()\n",
    "    results = []\n",
    "\n",
    "    with tqdm(total=len(chunk), desc=\"Заполнение очереди строками\") as pbar:\n",
    "        for idx, row in chunk.iterrows():\n",
    "            tool = tools[idx % len(tools)]\n",
    "            text_queue.put((row.name, row['review_full_text'], tool))\n",
    "            pbar.update(1)\n",
    "\n",
    "    with tqdm(total=text_queue.qsize(), desc=\"Обработка текста\") as progress_bar:\n",
    "        threads = []\n",
    "        for _ in range(len(tools)):\n",
    "            thread = threading.Thread(target=process_text, args=(text_queue, output_file_path, save_interval, lock, progress_bar))\n",
    "            thread.start()\n",
    "            threads.append(thread)\n",
    "\n",
    "        text_queue.join()\n",
    "        for thread in threads:\n",
    "            thread.join()\n",
    "\n",
    "def process_data(file_path, output_file_path, num_tools, save_interval=1000, chunk_size=10000, start_row=None, end_row=None):\n",
    "    tools_queue = queue.Queue()\n",
    "    threads = []\n",
    "\n",
    "    with tqdm(total=num_tools, desc=\"Создание экземпляров LanguageTool\") as pbar:\n",
    "        for _ in range(num_tools):\n",
    "            thread = threading.Thread(target=create_tool, args=(tools_queue, pbar))\n",
    "            thread.start()\n",
    "            threads.append(thread)\n",
    "\n",
    "        for thread in threads:\n",
    "            thread.join()\n",
    "\n",
    "    tools = [tools_queue.get() for _ in range(num_tools)]\n",
    "\n",
    "    # Чтение заголовка\n",
    "    header = pd.read_csv(file_path, compression='gzip', nrows=0).columns.tolist()\n",
    "    \n",
    "    # Чтение данных по частям с учетом диапазона строк\n",
    "    if start_row is not None and end_row is not None:\n",
    "        total_rows = end_row - start_row\n",
    "    else:\n",
    "        total_rows = None\n",
    "\n",
    "    for chunk in pd.read_csv(file_path, compression='gzip', skiprows=range(1, start_row+1), nrows=total_rows, chunksize=chunk_size, header=None, names=header):\n",
    "        chunk.index += start_row  # Обновляем индексы строк\n",
    "        process_data_chunk(chunk, output_file_path, tools, save_interval)\n",
    "\n",
    "# Пример вызова функции для анализа строк с 30000 по последнюю\n",
    "process_data('wildberries_reviews.csv.gz', output_file_name, num_tools=NUM_TOOLS, save_interval=100, chunk_size=CHUNK_SIZE, start_row=30000, end_row=None)"
   ]
  },
  {
   "cell_type": "code",
   "execution_count": null,
   "metadata": {},
   "outputs": [
    {
     "name": "stdout",
     "output_type": "stream",
     "text": [
      "corrected_wildberries_reviews.csv.gz_part_1.csv.gz\n",
      "corrected_wildberries_reviews_01-08-2024_10-37-24.csv.gz.csv\n",
      "corrected_wildberries_reviews_01-08-2024_10-42-44.csv\n",
      "corrected_wildberries_reviews_01-08-2024_10-51-00.csv\n",
      "corrected_wildberries_reviews_01-08-2024_10-59-53.csv\n",
      "cufile.log\n",
      "rmm_log.txt\n",
      "wildberries_reviews.csv\n",
      "wildberries_reviews.csv.gz\n"
     ]
    }
   ],
   "source": [
    "!ls"
   ]
  },
  {
   "cell_type": "code",
   "execution_count": 23,
   "metadata": {},
   "outputs": [
    {
     "data": {
      "text/html": [
       "<div>\n",
       "<style scoped>\n",
       "    .dataframe tbody tr th:only-of-type {\n",
       "        vertical-align: middle;\n",
       "    }\n",
       "\n",
       "    .dataframe tbody tr th {\n",
       "        vertical-align: top;\n",
       "    }\n",
       "\n",
       "    .dataframe thead th {\n",
       "        text-align: right;\n",
       "    }\n",
       "</style>\n",
       "<table border=\"1\" class=\"dataframe\">\n",
       "  <thead>\n",
       "    <tr style=\"text-align: right;\">\n",
       "      <th></th>\n",
       "      <th>id</th>\n",
       "      <th>corrected_text</th>\n",
       "    </tr>\n",
       "  </thead>\n",
       "  <tbody>\n",
       "    <tr>\n",
       "      <th>0</th>\n",
       "      <td>30016</td>\n",
       "      <td>Купила в свою машину ваш авто парфюм, свой люб...</td>\n",
       "    </tr>\n",
       "    <tr>\n",
       "      <th>1</th>\n",
       "      <td>30037</td>\n",
       "      <td>Прошу связаться представителей компании со мно...</td>\n",
       "    </tr>\n",
       "    <tr>\n",
       "      <th>2</th>\n",
       "      <td>30049</td>\n",
       "      <td>Очень крутой ароматизатор, пахнет на всю машин...</td>\n",
       "    </tr>\n",
       "    <tr>\n",
       "      <th>3</th>\n",
       "      <td>30061</td>\n",
       "      <td>Супер крутой. Пахнет хорошо и приятно. \\nРеком...</td>\n",
       "    </tr>\n",
       "    <tr>\n",
       "      <th>4</th>\n",
       "      <td>30067</td>\n",
       "      <td>Хотела написать отрицательный отзыв ..НО! Аром...</td>\n",
       "    </tr>\n",
       "    <tr>\n",
       "      <th>...</th>\n",
       "      <td>...</td>\n",
       "      <td>...</td>\n",
       "    </tr>\n",
       "    <tr>\n",
       "      <th>910</th>\n",
       "      <td>31943</td>\n",
       "      <td>Держится отлично 👍 крепкий и надежный 👍</td>\n",
       "    </tr>\n",
       "    <tr>\n",
       "      <th>911</th>\n",
       "      <td>31954</td>\n",
       "      <td>Мужу понравился. Держится крепко!</td>\n",
       "    </tr>\n",
       "    <tr>\n",
       "      <th>912</th>\n",
       "      <td>31980</td>\n",
       "      <td>Красивый, стильный, крепкий, удобно доставать ...</td>\n",
       "    </tr>\n",
       "    <tr>\n",
       "      <th>913</th>\n",
       "      <td>31987</td>\n",
       "      <td>Хороший держатель, можно переставить в любое м...</td>\n",
       "    </tr>\n",
       "    <tr>\n",
       "      <th>914</th>\n",
       "      <td>31999</td>\n",
       "      <td>Довольна очень👍🏻держится очень крепко!\\nХаЗава...</td>\n",
       "    </tr>\n",
       "  </tbody>\n",
       "</table>\n",
       "<p>915 rows × 2 columns</p>\n",
       "</div>"
      ],
      "text/plain": [
       "        id                                     corrected_text\n",
       "0    30016  Купила в свою машину ваш авто парфюм, свой люб...\n",
       "1    30037  Прошу связаться представителей компании со мно...\n",
       "2    30049  Очень крутой ароматизатор, пахнет на всю машин...\n",
       "3    30061  Супер крутой. Пахнет хорошо и приятно. \\nРеком...\n",
       "4    30067  Хотела написать отрицательный отзыв ..НО! Аром...\n",
       "..     ...                                                ...\n",
       "910  31943            Держится отлично 👍 крепкий и надежный 👍\n",
       "911  31954                  Мужу понравился. Держится крепко!\n",
       "912  31980  Красивый, стильный, крепкий, удобно доставать ...\n",
       "913  31987  Хороший держатель, можно переставить в любое м...\n",
       "914  31999  Довольна очень👍🏻держится очень крепко!\\nХаЗава...\n",
       "\n",
       "[915 rows x 2 columns]"
      ]
     },
     "execution_count": 23,
     "metadata": {},
     "output_type": "execute_result"
    }
   ],
   "source": [
    "t_df = pd.read_csv(output_file_name)\n",
    "t_df"
   ]
  }
 ],
 "metadata": {
  "kernelspec": {
   "display_name": "Python 3 (ipykernel)",
   "language": "python",
   "name": "python3"
  },
  "language_info": {
   "codemirror_mode": {
    "name": "ipython",
    "version": 3
   },
   "file_extension": ".py",
   "mimetype": "text/x-python",
   "name": "python",
   "nbconvert_exporter": "python",
   "pygments_lexer": "ipython3",
   "version": "3.10.14"
  }
 },
 "nbformat": 4,
 "nbformat_minor": 2
}
